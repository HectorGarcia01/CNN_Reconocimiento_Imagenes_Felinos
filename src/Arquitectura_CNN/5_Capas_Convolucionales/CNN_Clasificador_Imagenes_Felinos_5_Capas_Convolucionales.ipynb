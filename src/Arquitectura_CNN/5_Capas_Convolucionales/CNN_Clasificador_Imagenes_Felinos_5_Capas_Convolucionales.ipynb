{
  "cells": [
    {
      "cell_type": "markdown",
      "metadata": {
        "id": "SDFuoO5paNFZ"
      },
      "source": [
        "# Importamos las librerias"
      ]
    },
    {
      "cell_type": "code",
      "execution_count": null,
      "metadata": {
        "id": "hBCdEFMLaI9z"
      },
      "outputs": [],
      "source": [
        "import os\n",
        "from tensorflow.keras.preprocessing.image import ImageDataGenerator, load_img, img_to_array\n",
        "from tensorflow.keras import optimizers, regularizers\n",
        "from tensorflow.keras.models import Sequential\n",
        "from tensorflow.keras.layers import Dense, Dropout, Activation, Flatten, Conv2D, MaxPooling2D\n",
        "from tensorflow.keras import backend as k\n",
        "from tensorflow.keras.callbacks import ModelCheckpoint, EarlyStopping\n",
        "from keras.models import load_model\n",
        "import json\n",
        "import matplotlib.pyplot as plt\n",
        "import numpy as np\n",
        "from scipy.special import softmax\n"
      ]
    },
    {
      "cell_type": "markdown",
      "metadata": {
        "id": "z8kJVbGbRfwZ"
      },
      "source": [
        "#Limpiamos todas las sesiones para tener más rendimiento\n"
      ]
    },
    {
      "cell_type": "code",
      "execution_count": null,
      "metadata": {
        "id": "D5Ze_i69Rno6"
      },
      "outputs": [],
      "source": [
        "k.clear_session()"
      ]
    },
    {
      "cell_type": "markdown",
      "metadata": {
        "id": "SPTOKqtjizyp"
      },
      "source": [
        "#Para conectarnos con google drive"
      ]
    },
    {
      "cell_type": "code",
      "execution_count": null,
      "metadata": {
        "id": "5IC2EFjli1xZ"
      },
      "outputs": [],
      "source": [
        "from google.colab import drive\n",
        "drive.mount('/content/drive')"
      ]
    },
    {
      "cell_type": "markdown",
      "metadata": {
        "id": "VqF0tNXOZdf2"
      },
      "source": [
        "#Descomprimiendo los archivos ZIP de nuestro set de datos"
      ]
    },
    {
      "cell_type": "code",
      "execution_count": null,
      "metadata": {
        "id": "8b5pZQC3Zd2P"
      },
      "outputs": [],
      "source": [
        "!unzip /content/drive/MyDrive/Felinos.zip -d /content/"
      ]
    },
    {
      "cell_type": "markdown",
      "metadata": {
        "id": "0I0_m5F1d4im"
      },
      "source": [
        "# Definimos la ruta del set de datos tanto de entrenamiento como de validación"
      ]
    },
    {
      "cell_type": "code",
      "execution_count": null,
      "metadata": {
        "id": "r60cQ4pXd31Z"
      },
      "outputs": [],
      "source": [
        "#Ruta de la carpeta con las imágenes de entrenamiento\n",
        "data_entrenamiento = '/content/Felinos/train'\n",
        "\n",
        "#Ruta de la carpeta con las imágenes de validación\n",
        "data_validacion = '/content/Felinos/val'"
      ]
    },
    {
      "cell_type": "markdown",
      "metadata": {
        "id": "1du-ykQpc1aP"
      },
      "source": [
        "#Contando el número de imágenes del set de datos"
      ]
    },
    {
      "cell_type": "code",
      "execution_count": null,
      "metadata": {
        "id": "V6sk1AfOc3Ie"
      },
      "outputs": [],
      "source": [
        "#Variables para guardar el numero de clases para entrenamiento y validación\n",
        "num_clases_entrenamiento = 0\n",
        "num_clases_validacion = 0\n",
        "\n",
        "#Variables para guardar el numero de imagenes para entrenamiento y validación\n",
        "num_imagenes_entrenamiento = 0\n",
        "num_imagenes_validacion = 0\n",
        "\n",
        "#Recorremos cada subcarpeta de la ruta de entrenamiento\n",
        "for root, dirs, files in os.walk(data_entrenamiento):\n",
        "    for dir in dirs:\n",
        "        carpeta_ruta = os.path.join(root, dir)\n",
        "        num_imagenes = len(os.listdir(carpeta_ruta)) #Obtenemos el total de imagenes para x clase\n",
        "        num_clases_entrenamiento += 1 #Aumentamos el número de clases\n",
        "        num_imagenes_entrenamiento = num_imagenes_entrenamiento + num_imagenes #Aumentamos el total de imagenes por cada clase\n",
        "        print(f'El número de imágenes en la carpeta {carpeta_ruta} es: {num_imagenes}')\n",
        "\n",
        "print(\"\\n\\n\")\n",
        "\n",
        "#Recorremos cada subcarpeta de la ruta de validación\n",
        "for root, dirs, files in os.walk(data_validacion):\n",
        "    for dir in dirs:\n",
        "        carpeta_ruta = os.path.join(root, dir)\n",
        "        num_imagenes = len(os.listdir(carpeta_ruta))  #Obtenemos el total de imagenes para x clase\n",
        "        num_clases_validacion += 1 #Aumentamos el número de clases\n",
        "        num_imagenes_validacion = num_imagenes_validacion + num_imagenes #Aumentamos el total de imagenes por cada clase\n",
        "        print(f'El número de imágenes en la carpeta {carpeta_ruta} es: {num_imagenes}')\n",
        "\n",
        "#Mostramos el numero de clases y el numero de imagenes de entrenamiento\n",
        "print(f'\\n\\nEl número de clases en la carpeta {data_entrenamiento} es: {num_clases_entrenamiento}')\n",
        "print(f'El número de imagenes de entrenamiento es: {num_imagenes_entrenamiento}')\n",
        "\n",
        "#Mostramos el numero de clases y el numero de imagenes de validación\n",
        "print(f'\\n\\nEl número de clases en la carpeta {data_validacion} es: {num_clases_validacion}')\n",
        "print(f'El número de imagenes de validación es: {num_imagenes_validacion}')"
      ]
    },
    {
      "cell_type": "markdown",
      "metadata": {
        "id": "ZDG-SpZmaRbj"
      },
      "source": [
        "# Definimos parámetros e hiperparámetros para la CNN"
      ]
    },
    {
      "cell_type": "code",
      "execution_count": null,
      "metadata": {
        "id": "MpNmAAX7aWET"
      },
      "outputs": [],
      "source": [
        "altura, longitud = 224, 224 #Tamaño de las imágenes que se utilizarán\n",
        "batch_size = 32 #Tamaño del lote para el entrenamiento\n",
        "epocas = 100 #Cantidad de épocas para entrenar\n",
        "pasos = num_imagenes_entrenamiento//batch_size #Número de pasos de entrenamiento por época\n",
        "validation_steps = num_imagenes_validacion//batch_size #Número de pasos de validación por épocas\n",
        "filtros_Conv1 = 32 #Número de filtros para la primera capa convolucional\n",
        "filtros_Conv2 = 64 #Número de filtros para la segunda capa convolucional\n",
        "filtros_Conv3 = 128 #Número de filtros para la tercera capa convolucional\n",
        "filtros_Conv4 = 256 #Número de filtros para la cuarta capa convolucional\n",
        "filtros_Conv5 = 512 #Número de filtros para la quinta capa convolucional\n",
        "tamanio_filtro1 = (3, 3) #Tamaño del filtro para la primera capa convolucional\n",
        "tamanio_filtro2 = (3, 3) #Tamaño del filtro para la segunda capa convolucional\n",
        "tamanio_filtro3 = (3, 3) #Tamaño del filtro para la tercera capa convolucional\n",
        "tamanio_filtro4 = (3, 3) #Tamaño del filtro para la cuarta capa convolucional\n",
        "tamanio_filtro5 = (3, 3) #Tamaño del filtro para la quinta capa convolucional\n",
        "tamanio_pool = (2, 2) #Tamaño de pool de agrupación\n",
        "clases = 4 #Número de clases (leon, gato, tigre y pantera)\n",
        "lr = 0.0004 #Tasa de aprendizaje"
      ]
    },
    {
      "cell_type": "markdown",
      "metadata": {
        "id": "B7s9OlCfao42"
      },
      "source": [
        "# Definimos el ImageDataGenerator para la generación de imágenes y ajuste"
      ]
    },
    {
      "cell_type": "code",
      "execution_count": null,
      "metadata": {
        "id": "JELsDB92a0st"
      },
      "outputs": [],
      "source": [
        "#Generación de datos de imágenes y ajuste para entrenamiento\n",
        "entrenamiento_datagen = ImageDataGenerator(\n",
        "    rescale=1./255,               #Reescala los valores de píxeles para que estén en el rango [0, 1]\n",
        "    rotation_range=10,            #Rango de ángulos en grados para rotar aleatoriamente las imágenes\n",
        "    vertical_flip=True,           #Voltea verticalmente las imágenes de forma aleatoria\n",
        "    width_shift_range=0.3,        #Desplazamiento aleatorio horizontal en fracción de la anchura total de la imagen\n",
        "    height_shift_range=0.1,       #Desplazamiento aleatorio vertical en fracción de la altura total de la imagen\n",
        "    channel_shift_range=0.2,      #Desplazamiento aleatorio de los canales de color\n",
        "    shear_range=0.2,              #Rango de ángulos en grados para realizar transformaciones de cizallamiento\n",
        "    zoom_range=0.2,               #Rango de zoom aleatorio para las imágenes\n",
        "    horizontal_flip=True,         #Voltea horizontalmente las imágenes de forma aleatoria\n",
        "    brightness_range=(0.8, 1.2),  #Rango de brillo aleatorio para las imágenes\n",
        "    fill_mode='nearest')          #Modo de relleno para los píxeles cuando se aplican transformaciones de tamaño o posición\n",
        "\n",
        "entrenamiento_generador = entrenamiento_datagen.flow_from_directory(\n",
        "    data_entrenamiento,\n",
        "    target_size=(longitud, altura),\n",
        "    batch_size=batch_size,\n",
        "    class_mode='categorical')\n",
        "\n",
        "#Generación de datos de imágenes y ajuste para validación\n",
        "validacion_datagen = ImageDataGenerator(rescale=1./255) #Solo se reescalan los valores de píxeles para la validación\n",
        "\n",
        "validacion_generador = validacion_datagen.flow_from_directory(\n",
        "    data_validacion,\n",
        "    target_size=(longitud, altura),\n",
        "    batch_size=batch_size,\n",
        "    class_mode='categorical')"
      ]
    },
    {
      "cell_type": "markdown",
      "source": [
        "#Obtenemos los nombres de las clases y las guardamos en un archivo json para usarlo en un archivo aparte para la predicción"
      ],
      "metadata": {
        "id": "8wueah7qBTf6"
      }
    },
    {
      "cell_type": "code",
      "source": [
        "#Obtenemos los nombres de las clases\n",
        "nombre_clases = entrenamiento_generador.class_indices\n",
        "\n",
        "#Guardamos los nombres de las clases en un archivo JSON\n",
        "with open('clases_Felino.json', 'w') as f:\n",
        "    json.dump(nombre_clases, f)\n"
      ],
      "metadata": {
        "id": "fpoVrJo4Bc4d"
      },
      "execution_count": null,
      "outputs": []
    },
    {
      "cell_type": "markdown",
      "metadata": {
        "id": "ELL6O33baYBY"
      },
      "source": [
        "# Definimos la arquitectura de la CNN"
      ]
    },
    {
      "cell_type": "code",
      "execution_count": null,
      "metadata": {
        "id": "LEVIk37najkk"
      },
      "outputs": [],
      "source": [
        "#Creación del modelo\n",
        "modelo = Sequential()\n",
        "\n",
        "#Primera apa de convolución y pooling\n",
        "modelo.add(Conv2D(filtros_Conv1, tamanio_filtro1, padding =\"same\", input_shape=(longitud, altura, 3), activation='relu'))\n",
        "modelo.add(MaxPooling2D(pool_size=tamanio_pool))\n",
        "\n",
        "#Segunda capa de convolución y pooling\n",
        "modelo.add(Conv2D(filtros_Conv2, tamanio_filtro2, padding=\"same\", activation='relu'))\n",
        "modelo.add(MaxPooling2D(pool_size=tamanio_pool))\n",
        "\n",
        "#Tercera capa de convolución y pooling\n",
        "modelo.add(Conv2D(filtros_Conv3, tamanio_filtro3, padding=\"same\", activation='relu'))\n",
        "modelo.add(MaxPooling2D(pool_size=tamanio_pool))\n",
        "\n",
        "#Cuarta capa de convolución y pooling\n",
        "modelo.add(Conv2D(filtros_Conv4, tamanio_filtro4, padding=\"same\", activation='relu'))\n",
        "modelo.add(MaxPooling2D(pool_size=tamanio_pool))\n",
        "\n",
        "#Quinta capa de convolución y pooling\n",
        "modelo.add(Conv2D(filtros_Conv5, tamanio_filtro5, padding=\"same\", activation='relu'))\n",
        "modelo.add(MaxPooling2D(pool_size=tamanio_pool))\n",
        "\n",
        "#Capa completamente conectada\n",
        "modelo.add(Flatten())\n",
        "modelo.add(Dense(1024, activation='relu', kernel_regularizer=regularizers.l2(0.01)))\n",
        "modelo.add(Dropout(0.5))\n",
        "modelo.add(Dense(clases, activation='softmax'))"
      ]
    },
    {
      "cell_type": "markdown",
      "metadata": {
        "id": "V7N2gliDbEo6"
      },
      "source": [
        "# Compilamos el modelo"
      ]
    },
    {
      "cell_type": "code",
      "execution_count": null,
      "metadata": {
        "id": "mF4ZoUWZbKiB"
      },
      "outputs": [],
      "source": [
        "modelo.compile(loss='categorical_crossentropy',\n",
        "              optimizer=optimizers.Adam(learning_rate=lr),\n",
        "              metrics=['accuracy'])"
      ]
    },
    {
      "cell_type": "markdown",
      "metadata": {
        "id": "4JMBoMy5bMdy"
      },
      "source": [
        "# Utilizamos el callback \"checkpoint\" y el callback \"earlystopping\" para guardar el modelo con mejor rendimiento y con una paciencia de 10"
      ]
    },
    {
      "cell_type": "code",
      "execution_count": null,
      "metadata": {
        "id": "307686m9bYRJ"
      },
      "outputs": [],
      "source": [
        "#Configuramos el callback chekpoint (content/Mejor_Modelo/modelo_felinos.h5)\n",
        "checkpoint = ModelCheckpoint(filepath='/content/drive/MyDrive/modelo_felinos.h5', #Para que se guarde el modelo directamente a nuestro drive (y para guardarlo en el entorno de forma temporal usar: /content/Mejor_Modelo/modelo_felinos.h5\n",
        "                             monitor='val_accuracy', \n",
        "                             mode='max', \n",
        "                             save_best_only=True, \n",
        "                             verbose=1)\n",
        "\n",
        "#Configuramos el callback earlystopping con una paciencia de 10\n",
        "earlystopping = EarlyStopping(monitor='val_accuracy',\n",
        "                              patience=10, \n",
        "                              verbose=1)\n",
        "\n",
        "#Unimos ambos callbacks\n",
        "callbacks = [checkpoint, earlystopping]"
      ]
    },
    {
      "cell_type": "markdown",
      "metadata": {
        "id": "PwKId_cSbdfk"
      },
      "source": [
        "# Entrenamos el modelo"
      ]
    },
    {
      "cell_type": "code",
      "execution_count": null,
      "metadata": {
        "id": "8vpvwHJHbj3G"
      },
      "outputs": [],
      "source": [
        "historial_entrenamiento = modelo.fit(\n",
        "    entrenamiento_generador,\n",
        "    steps_per_epoch=pasos,\n",
        "    epochs=epocas,\n",
        "    validation_data=validacion_generador,\n",
        "    validation_steps=validation_steps,\n",
        "    callbacks=callbacks)"
      ]
    },
    {
      "cell_type": "markdown",
      "metadata": {
        "id": "GHdJOL0JMIxK"
      },
      "source": [
        "#Cargamos el mejor modelo obtenido"
      ]
    },
    {
      "cell_type": "code",
      "execution_count": null,
      "metadata": {
        "id": "9kBC81EPMRqd"
      },
      "outputs": [],
      "source": [
        "modelo_cargado = load_model('/content/drive/MyDrive/modelo_felinos.h5') #Cargar el modelo guardado desde nuestro drive\n",
        "#modelo_cargado = load_model('/content/Mejor_Modelo/modelo_felinos.h5') #Cargar el modelo desde la carpeta Mejor_Modelo"
      ]
    },
    {
      "cell_type": "markdown",
      "metadata": {
        "id": "aXpRILZ-NAEy"
      },
      "source": [
        "#Obtenemos el accuracy y loss del historial de entrenamiento"
      ]
    },
    {
      "cell_type": "code",
      "execution_count": null,
      "metadata": {
        "id": "20SkfYu1NszA",
        "colab": {
          "base_uri": "https://localhost:8080/"
        },
        "outputId": "7c633607-8c45-4e5b-855f-60196e8305c0"
      },
      "outputs": [
        {
          "output_type": "stream",
          "name": "stdout",
          "text": [
            "dict_keys(['loss', 'accuracy', 'val_loss', 'val_accuracy'])\n"
          ]
        }
      ],
      "source": [
        "obtener_metricas = historial_entrenamiento.history\n",
        "\n",
        "#Mostramos las métricas del historial\n",
        "print(obtener_metricas.keys())"
      ]
    },
    {
      "cell_type": "markdown",
      "metadata": {
        "id": "1LSUHgw0Ozpm"
      },
      "source": [
        "#Graficamos las metricas accuracy y loss de los datos de entrenamiento"
      ]
    },
    {
      "cell_type": "code",
      "execution_count": null,
      "metadata": {
        "id": "brvDxmgGO5gr"
      },
      "outputs": [],
      "source": [
        "#Trazamos la curva de pérdida obtenida durante el entrenamiento\n",
        "plt.plot(obtener_metricas['loss'], 'ro--')\n",
        "plt.xlabel('Épocas')\n",
        "plt.ylabel('Pérdida')\n",
        "plt.title('Curva de pérdida - Entrenamiento')\n",
        "plt.show()\n",
        "\n",
        "#Trazamos la curva de precisión obtenida durante el entrenamiento\n",
        "plt.plot(obtener_metricas['accuracy'], 'go--')\n",
        "plt.xlabel('Épocas')\n",
        "plt.ylabel('Precisión')\n",
        "plt.title('Curva de precisión - Entrenamiento')\n",
        "plt.show()\n",
        "\n",
        "#Trazamos la curva de pérdida y la curva de precisión para entrenamiento\n",
        "plt.plot(obtener_metricas['loss'], 'ro--')\n",
        "plt.plot(obtener_metricas['accuracy'], 'go--')\n",
        "plt.xlabel('Épocas')\n",
        "plt.ylabel('Pérdida/Precisión')\n",
        "plt.title('Curva de precisión/pérdida - Entrenamiento')\n",
        "plt.show()"
      ]
    },
    {
      "cell_type": "markdown",
      "metadata": {
        "id": "_TrpNv0_eUp1"
      },
      "source": [
        "#Graficamos las metricas accuracy y loss de los datos de validación"
      ]
    },
    {
      "cell_type": "code",
      "execution_count": null,
      "metadata": {
        "id": "zjTVplvueQ0H"
      },
      "outputs": [],
      "source": [
        "#Trazamos la curva de pérdida de validación obtenida durante el entrenamiento\n",
        "plt.plot(obtener_metricas['val_loss'], 'ro--')\n",
        "plt.xlabel('Épocas')\n",
        "plt.ylabel('Pérdida')\n",
        "plt.title('Curva de pérdida - Validación')\n",
        "plt.show()\n",
        "\n",
        "#Trazamos la curva de precisión de validación obtenida durante el entrenamiento\n",
        "plt.plot(obtener_metricas['val_accuracy'], 'go--')\n",
        "plt.xlabel('Épocas')\n",
        "plt.ylabel('Precisión')\n",
        "plt.title('Curva de precisión - Validación')\n",
        "plt.show()\n",
        "\n",
        "#Trazamos la curva de pérdida y la curva de precisión para validación\n",
        "plt.plot(obtener_metricas['val_loss'], 'ro--')\n",
        "plt.plot(obtener_metricas['val_accuracy'], 'go--')\n",
        "plt.xlabel('Épocas')\n",
        "plt.ylabel('Pérdida/Precisión')\n",
        "plt.title('Curva de precisión/pérdida - Validación')\n",
        "plt.show()"
      ]
    },
    {
      "cell_type": "markdown",
      "source": [
        "#Realizamos una predicción de alguna imágen del set de datos de validación"
      ],
      "metadata": {
        "id": "ryx5gMtHXAUA"
      }
    },
    {
      "cell_type": "code",
      "source": [
        "#Cargamos una imagen del set de validación\n",
        "ruta_imagen = '/content/Felinos/val/pantera/pantera_val_77.jpg'\n",
        "img = load_img(ruta_imagen, target_size=(altura, longitud))\n",
        "\n",
        "#Convertimos la imagen a un array de NumPy\n",
        "img_array = img_to_array(img)\n",
        "img_array = np.expand_dims(img_array, axis=0)\n",
        "\n",
        "#Hacemos la predicción con el modelo\n",
        "prediccion = modelo_cargado.predict(img_array)\n",
        "\n",
        "#Obtener las probabilidades de pertenencia a cada clase y aplicar la función softmax\n",
        "probabilidades = softmax(prediccion)[0]\n",
        "\n",
        "#Obtener los nombres de las clases\n",
        "nombre_clases = entrenamiento_generador.class_indices.keys()\n",
        "\n",
        "#Imprimimos las clases de felinos\n",
        "print(nombre_clases)\n",
        "\n",
        "#Imprimir los porcentajes de pertenencia a cada clase\n",
        "for i, name in enumerate(nombre_clases):\n",
        "    print(f\"{name}: {probabilidades[i]*100:.2f}%\")"
      ],
      "metadata": {
        "id": "xz6wt9i4551E"
      },
      "execution_count": null,
      "outputs": []
    },
    {
      "cell_type": "markdown",
      "source": [
        "#Opcional\n",
        "En caso de no quedar satisfecho con el entrenamiento y se quiera volver a entrenar el mejor modelo del entrenamiento anterior y así no iniciar de cero."
      ],
      "metadata": {
        "id": "WZdqIwiG3Fqq"
      }
    },
    {
      "cell_type": "code",
      "execution_count": null,
      "metadata": {
        "id": "ZCb_qr303vRs"
      },
      "outputs": [],
      "source": [
        "historial_modelo_cargado = modelo_cargado.fit(\n",
        "    entrenamiento_generador,\n",
        "    steps_per_epoch=pasos,\n",
        "    epochs=epocas,\n",
        "    validation_data=validacion_generador,\n",
        "    validation_steps=validation_steps,\n",
        "    callbacks=callbacks)"
      ]
    },
    {
      "cell_type": "markdown",
      "metadata": {
        "id": "5LbKZc443kUv"
      },
      "source": [
        "#Opcional\n",
        "Obtenemos el accuracy y loss del historial de entrenamiento"
      ]
    },
    {
      "cell_type": "code",
      "execution_count": null,
      "metadata": {
        "id": "EFImx9ZG3kUw"
      },
      "outputs": [],
      "source": [
        "obtener_metricas_modelo_nuevo = historial_modelo_cargado.history\n",
        "\n",
        "#Mostramos las métricas del historial\n",
        "print(obtener_metricas_modelo_nuevo.keys())"
      ]
    },
    {
      "cell_type": "markdown",
      "metadata": {
        "id": "UvbJ6e8D4v3a"
      },
      "source": [
        "#Opcional\n",
        "Graficamos las metricas accuracy y loss de los datos de entrenamiento"
      ]
    },
    {
      "cell_type": "code",
      "execution_count": null,
      "metadata": {
        "id": "6YX_k4YV4v3n"
      },
      "outputs": [],
      "source": [
        "#Trazamos la curva de pérdida obtenida durante el entrenamiento\n",
        "plt.plot(obtener_metricas_modelo_nuevo['loss'], 'ro--')\n",
        "plt.xlabel('Épocas')\n",
        "plt.ylabel('Pérdida')\n",
        "plt.title('Curva de pérdida - Entrenamiento')\n",
        "plt.show()\n",
        "\n",
        "#Trazamos la curva de precisión obtenida durante el entrenamiento\n",
        "plt.plot(obtener_metricas_modelo_nuevo['accuracy'], 'go--')\n",
        "plt.xlabel('Épocas')\n",
        "plt.ylabel('Precisión')\n",
        "plt.title('Curva de precisión - Entrenamiento')\n",
        "plt.show()\n",
        "\n",
        "#Trazamos la curva de pérdida y la curva de precisión para entrenamiento\n",
        "plt.plot(obtener_metricas_modelo_nuevo['loss'], 'ro--')\n",
        "plt.plot(obtener_metricas_modelo_nuevo['accuracy'], 'go--')\n",
        "plt.xlabel('Épocas')\n",
        "plt.ylabel('Pérdida/Precisión')\n",
        "plt.title('Curva de precisión/pérdida - Entrenamiento')\n",
        "plt.show()"
      ]
    },
    {
      "cell_type": "markdown",
      "metadata": {
        "id": "m6cq2RYa5Hta"
      },
      "source": [
        "#Opcional\n",
        "Graficamos las metricas accuracy y loss de los datos de validación"
      ]
    },
    {
      "cell_type": "code",
      "execution_count": null,
      "metadata": {
        "id": "t5mlmPwR5Htw"
      },
      "outputs": [],
      "source": [
        "#Trazamos la curva de pérdida de validación obtenida durante el entrenamiento\n",
        "plt.plot(obtener_metricas_modelo_nuevo['val_loss'], 'ro--')\n",
        "plt.xlabel('Épocas')\n",
        "plt.ylabel('Pérdida')\n",
        "plt.title('Curva de pérdida - Validación')\n",
        "plt.show()\n",
        "\n",
        "#Trazamos la curva de precisión de validación obtenida durante el entrenamiento\n",
        "plt.plot(obtener_metricas_modelo_nuevo['val_accuracy'], 'go--')\n",
        "plt.xlabel('Épocas')\n",
        "plt.ylabel('Precisión')\n",
        "plt.title('Curva de precisión - Validación')\n",
        "plt.show()\n",
        "\n",
        "#Trazamos la curva de pérdida y la curva de precisión para validación\n",
        "plt.plot(obtener_metricas_modelo_nuevo['val_loss'], 'ro--')\n",
        "plt.plot(obtener_metricas_modelo_nuevo['val_accuracy'], 'go--')\n",
        "plt.xlabel('Épocas')\n",
        "plt.ylabel('Pérdida/Precisión')\n",
        "plt.title('Curva de precisión/pérdida - Validación')\n",
        "plt.show()"
      ]
    }
  ],
  "metadata": {
    "accelerator": "GPU",
    "colab": {
      "provenance": []
    },
    "gpuClass": "standard",
    "kernelspec": {
      "display_name": "Python 3",
      "name": "python3"
    },
    "language_info": {
      "name": "python"
    }
  },
  "nbformat": 4,
  "nbformat_minor": 0
}